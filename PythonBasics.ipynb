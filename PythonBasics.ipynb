{
 "cells": [
  {
   "cell_type": "raw",
   "id": "64d1984d",
   "metadata": {},
   "source": [
    "Creating a simple list of numbers them show up even numbers "
   ]
  },
  {
   "cell_type": "code",
   "execution_count": 1,
   "id": "0da96606",
   "metadata": {
    "scrolled": true
   },
   "outputs": [
    {
     "name": "stdout",
     "output_type": "stream",
     "text": [
      "2\n",
      "0\n",
      "4\n",
      "22\n",
      "8\n",
      "90\n"
     ]
    }
   ],
   "source": [
    "listOfNumbers = (2, 0, 4, 3, 11, 19, 22, 8, 90)\n",
    "for number in listOfNumbers:\n",
    "    if(number % 2 == 0):\n",
    "        print(number)"
   ]
  }
 ],
 "metadata": {
  "kernelspec": {
   "display_name": "Python 3 (ipykernel)",
   "language": "python",
   "name": "python3"
  },
  "language_info": {
   "codemirror_mode": {
    "name": "ipython",
    "version": 3
   },
   "file_extension": ".py",
   "mimetype": "text/x-python",
   "name": "python",
   "nbconvert_exporter": "python",
   "pygments_lexer": "ipython3",
   "version": "3.11.5"
  }
 },
 "nbformat": 4,
 "nbformat_minor": 5
}
